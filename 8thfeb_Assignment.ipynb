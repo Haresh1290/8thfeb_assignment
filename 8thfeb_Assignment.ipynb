{
 "cells": [
  {
   "cell_type": "code",
   "execution_count": 1,
   "id": "d58b425e-0372-42ed-bf43-e29487e25dbe",
   "metadata": {},
   "outputs": [],
   "source": [
    "#problem_1\n",
    "\n",
    "\"\"\"Abstraction is the process of hiding the internal details of an application from the outer world. \n",
    "Abstraction is used to describe things in simple terms. It’s used to create a boundary between the \n",
    "application and the client programs.\"\"\"\n",
    "\"\"\"Objects are the building blocks of Object-Oriented Programming. An object contains some properties and methods.\n",
    "We can hide them from the outer world through access modifiers. We can provide access only for required functions and \n",
    "properties to the other programs. This is the general procedure to implement abstraction in OOPS\"\"\"\n",
    "\n",
    "#Example\n",
    "import abc\n",
    "class pwskills:\n",
    "    \n",
    "    @abc.abstractmethod\n",
    "    def stud_details(self):\n",
    "        pass\n",
    "    \n",
    "    @abc.abstractmethod\n",
    "    def stud_assignment(self):\n",
    "        pass\n",
    "    \n",
    "    @abc.abstractmethod\n",
    "    def stud_marks(self):\n",
    "        pass\n",
    "\n",
    "class web_dev(pwskills):\n",
    "    \n",
    "    def stud_details(self):\n",
    "        return \"This are web development stundent details\"\n",
    "    \n",
    "    def stud_assignment(self):\n",
    "        return \"This are web development student assignment\"\n",
    "    \n",
    "    "
   ]
  },
  {
   "cell_type": "code",
   "execution_count": 3,
   "id": "db6cf8b2-7637-4758-9d19-c58c8bc3668e",
   "metadata": {},
   "outputs": [
    {
     "name": "stdout",
     "output_type": "stream",
     "text": [
      "15\n",
      "5\n"
     ]
    }
   ],
   "source": [
    "#Problem_2\n",
    "#Abstraction\n",
    "#Abstraction is a feature of OOPs that hides the unnecessary detail but shows the essential information.\n",
    "#It solves an issue at the design level.\n",
    "#It focuses on the external lookout.\n",
    "#It can be implemented using abstract classes and interfaces.\n",
    "#In abstraction, we use abstract classes and interfaces to hide the code complexities.\n",
    "#It is the process of gaining information.\n",
    "#Example:\n",
    "from abc import ABCMeta, abstractmethod\n",
    "\n",
    "\n",
    "class Calculation(metaclass=ABCMeta):\n",
    "\n",
    "    @abstractmethod\n",
    "    def add(self):\n",
    "        pass\n",
    "\n",
    "    @abstractmethod\n",
    "    def subtract(self):\n",
    "        pass\n",
    "\n",
    "    def multiply(self):\n",
    "        pass\n",
    "\n",
    "    def division(self):\n",
    "        pass\n",
    "\n",
    "\n",
    "class Calculator(Calculation):\n",
    "\n",
    "    def __init__(self, a, b):\n",
    "        self.a = a\n",
    "        self.b = b\n",
    "\n",
    "    def add(self):\n",
    "        print(self.a + self.b)\n",
    "\n",
    "    def subtract(self):\n",
    "        print(self.a - self.b)\n",
    "\n",
    "\n",
    "take = Calculator(10, 5)\n",
    "take.add()\n",
    "take.subtract()\n",
    "\n",
    "#Encapsulation\n",
    "#Encapsulation is also a feature of OOPs. It hides the code and data into a single entity or unit so that the data can be protected from the outside world.\n",
    "#Encapsulation solves an issue at implementation level.\n",
    "#It focuses on internal working.\n",
    "#It can be implemented by using the access modifiers (private, public, protected).\n",
    "#We use the getters and setters methods to hide the data.\n",
    "#It is the process of containing the information.\n",
    "#example:\n",
    "class bank_account :\n",
    "    def __init__(self, balance):\n",
    "        self.__balance = balance\n",
    "    \n",
    "    def deposit(self , amount):\n",
    "        self.__balance = self.__balance + amount\n",
    "    \n",
    "    def withdraw(self ,amount) :\n",
    "        if self.__balance >= amount :\n",
    "            self.__balance = self.__balance - amount\n",
    "            return True\n",
    "        else :\n",
    "            return False\n",
    "        \n",
    "    def get_balance(self):\n",
    "            return self.__balance\n",
    "\n"
   ]
  },
  {
   "cell_type": "code",
   "execution_count": 4,
   "id": "e572dc2d-1f7c-428b-8d0b-96d19bb4f8bb",
   "metadata": {},
   "outputs": [
    {
     "data": {
      "text/plain": [
       "'The main goal of the abstract base class is to provide a standardized way to test whether an object adheres to a given specification. \\nIt can also prevent any attempt to instantiate a subclass that doesn’t override a particular method in the superclass. And finally, using an abstract class, \\na class can derive identity from another class without any object inheritance.Python has a module called abc (abstract base class) that offers the necessary \\ntools for crafting an abstract base class. First and foremost, you should understand the ABCMeta metaclass provided by the abstract base class. \\nThe rule is every abstract class must use ABCMeta metaclass.'"
      ]
     },
     "execution_count": 4,
     "metadata": {},
     "output_type": "execute_result"
    }
   ],
   "source": [
    "#Problem_3\n",
    "\"\"\"Have you ever thought about checking whether the objects you are using adheres to a particular specification? \n",
    "It is necessary to verify whether an object implements a given method or property, \n",
    "especially while creating a library where other developers make use of it. \n",
    "A developer can use hasattr or isinstance methods to check whether the input conforms to a particular identity. \n",
    "But sometimes it is inconvenient to use those methods to check a myriad of different properties and methods.\n",
    "As a solution to this inconvenience, Python introduced a concept called abstract base class (abc). \n",
    "In this section, we will discuss the abstract base class and its importance.\"\"\"\n",
    "\n",
    "#uses of ABC module\n",
    "\"\"\"The main goal of the abstract base class is to provide a standardized way to test whether an object adheres to a given specification. \n",
    "It can also prevent any attempt to instantiate a subclass that doesn’t override a particular method in the superclass. And finally, using an abstract class, \n",
    "a class can derive identity from another class without any object inheritance.Python has a module called abc (abstract base class) that offers the necessary \n",
    "tools for crafting an abstract base class. First and foremost, you should understand the ABCMeta metaclass provided by the abstract base class. \n",
    "The rule is every abstract class must use ABCMeta metaclass.\"\"\"\n"
   ]
  },
  {
   "cell_type": "code",
   "execution_count": 5,
   "id": "b9cda11a-dad4-4e31-9c3a-7b61cc4e85b2",
   "metadata": {},
   "outputs": [
    {
     "name": "stdout",
     "output_type": "stream",
     "text": [
      "Subject is Maths\n",
      "Subject is Physics\n",
      "Subject is Chemistry\n",
      "Subject is English\n"
     ]
    }
   ],
   "source": [
    "#Problem_4\n",
    "#Let’s understand how we can use the inbuild python class Abstract Base Class (ABC) to achieve data abstraction in python. We can say a class is an abstract class when a class contains an abstract method. \n",
    "#We can use @abstractmethod keyword to define an abstract method in python. \n",
    "#Let’s understand what is data abstraction in python with help of an example.\n",
    "\n",
    "# abstraction in python\n",
    "from abc import ABC,abstractmethod\n",
    "\n",
    "# abstract class\n",
    "class Subject(ABC):\n",
    "    @abstractmethod\n",
    "    def subject(self):\n",
    "        pass\n",
    "\n",
    "class Maths(Subject):\n",
    "    # override superclass method\n",
    "    def subject(self):\n",
    "        print(\"Subject is Maths\")\n",
    "\n",
    "class Physics(Subject):\n",
    "    # override superclass method\n",
    "    def subject(self):\n",
    "        print(\"Subject is Physics\")\n",
    "\n",
    "class Chemistry(Subject):\n",
    "    # override superclass method\n",
    "    def subject(self):\n",
    "        print(\"Subject is Chemistry\")\n",
    "\n",
    "class English(Subject):\n",
    "    # override superclass method\n",
    "    def subject(self):\n",
    "        print(\"Subject is English\")\n",
    "\n",
    "maths=Maths()\n",
    "maths.subject()\n",
    "\n",
    "physics=Physics()\n",
    "physics.subject()\n",
    "\n",
    "chemistry=Chemistry()\n",
    "chemistry.subject()\n",
    "\n",
    "english=English()\n",
    "english.subject()\n"
   ]
  },
  {
   "cell_type": "code",
   "execution_count": 12,
   "id": "1ecfae35-7981-4c37-aa5c-8b24ba04f3c0",
   "metadata": {},
   "outputs": [
    {
     "ename": "ModuleNotFoundError",
     "evalue": "No module named 'Shape'",
     "output_type": "error",
     "traceback": [
      "\u001b[0;31m---------------------------------------------------------------------------\u001b[0m",
      "\u001b[0;31mModuleNotFoundError\u001b[0m                       Traceback (most recent call last)",
      "Cell \u001b[0;32mIn[12], line 21\u001b[0m\n\u001b[1;32m     17\u001b[0m     \u001b[38;5;129m@abstractmethod\u001b[39m\n\u001b[1;32m     18\u001b[0m     \u001b[38;5;28;01mdef\u001b[39;00m \u001b[38;5;21mdraw\u001b[39m(\u001b[38;5;28mself\u001b[39m):\n\u001b[1;32m     19\u001b[0m         \u001b[38;5;28;01mpass\u001b[39;00m\n\u001b[0;32m---> 21\u001b[0m \u001b[38;5;28;01mfrom\u001b[39;00m \u001b[38;5;21;01mShape\u001b[39;00m \u001b[38;5;28;01mimport\u001b[39;00m Shape\n\u001b[1;32m     23\u001b[0m \u001b[38;5;28;01mtry\u001b[39;00m :\n\u001b[1;32m     24\u001b[0m     shape \u001b[38;5;241m=\u001b[39m Shape()\n",
      "\u001b[0;31mModuleNotFoundError\u001b[0m: No module named 'Shape'"
     ]
    }
   ],
   "source": [
    "#Problem_5\n",
    "#Abstract classes are not complete, as they may have some methods that are not defined. \n",
    "#So we cannot create an instance or object of an abstract class in Python. \n",
    "#If we try to instantiate the abstract class, it raises an error.\n",
    "#example\n",
    "\n",
    "\n"
   ]
  },
  {
   "cell_type": "code",
   "execution_count": null,
   "id": "0c42013b-d547-4a7f-8bfb-f80b71103124",
   "metadata": {},
   "outputs": [],
   "source": []
  }
 ],
 "metadata": {
  "kernelspec": {
   "display_name": "Python 3 (ipykernel)",
   "language": "python",
   "name": "python3"
  },
  "language_info": {
   "codemirror_mode": {
    "name": "ipython",
    "version": 3
   },
   "file_extension": ".py",
   "mimetype": "text/x-python",
   "name": "python",
   "nbconvert_exporter": "python",
   "pygments_lexer": "ipython3",
   "version": "3.10.8"
  }
 },
 "nbformat": 4,
 "nbformat_minor": 5
}
